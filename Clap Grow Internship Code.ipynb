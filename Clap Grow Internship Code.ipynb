{
 "cells": [
  {
   "cell_type": "markdown",
   "id": "7bac6299-0585-4db8-9dbb-a059a6b24962",
   "metadata": {},
   "source": [
    "#### Importing Necessary Libraries"
   ]
  },
  {
   "cell_type": "code",
   "execution_count": 1,
   "id": "cc0d1d7c-1b40-4d4f-9238-a1021beb924c",
   "metadata": {},
   "outputs": [],
   "source": [
    "import gspread\n",
    "from oauth2client.service_account import ServiceAccountCredentials\n",
    "import pdfplumber\n",
    "import re"
   ]
  },
  {
   "cell_type": "markdown",
   "id": "0ed515d2-c9d8-4eae-ac04-86622beb3097",
   "metadata": {},
   "source": [
    "#### Dealing with Google Sheets to access the required input number"
   ]
  },
  {
   "cell_type": "code",
   "execution_count": 2,
   "id": "2c71d323-a4f7-4e93-8e56-af1109a54ed3",
   "metadata": {},
   "outputs": [
    {
     "name": "stdout",
     "output_type": "stream",
     "text": [
      "Value in Google Sheet: 3000000.0\n"
     ]
    }
   ],
   "source": [
    "# Setting up the Google Sheets API client\n",
    "scope = [\"https://spreadsheets.google.com/feeds\", \"https://www.googleapis.com/auth/drive\"]\n",
    "credentials = ServiceAccountCredentials.from_json_keyfile_name(\"zinc-tribute-425512-c3-dab26fd6875a.json\", scope)\n",
    "client = gspread.authorize(credentials)\n",
    "\n",
    "# Opening the Google Sheet by URL\n",
    "spreadsheet = client.open_by_url(\"https://docs.google.com/spreadsheets/d/1oNimaDmg6F7S2bPlL2uA-_inelAEi4pwuHIvE8yB6WU/edit#gid=0\")\n",
    "worksheet = spreadsheet.sheet1\n",
    "\n",
    "# Reading the number from the Google Sheet\n",
    "numberFromSheet = worksheet.cell(1, 1).value # Since I have entered the number in the very first cell\n",
    "\n",
    "# Converting the type from string to float\n",
    "numberFromSheet = float(numberFromSheet.replace(\",\", \"\"))\n",
    "\n",
    "# Printing the value\n",
    "print(f\"Value in Google Sheet: {numberFromSheet}\")"
   ]
  },
  {
   "cell_type": "markdown",
   "id": "914954a3-8530-4dd4-937b-c244a534485f",
   "metadata": {},
   "source": [
    "#### Displaying the first page of the provided document"
   ]
  },
  {
   "cell_type": "code",
   "execution_count": 3,
   "id": "32583656-2826-4489-9931-3b50a2683bf3",
   "metadata": {},
   "outputs": [
    {
     "name": "stdout",
     "output_type": "stream",
     "text": [
      "Industrial All Risk Insurance\n",
      "23/04/2024\n",
      "To,\n",
      "M/S ABIS EXPORTS INDIA PVT LTD\n",
      "VILL INDAMARA PO PENDRI DIST RAJNANDGAON RAJNANDGAON ,\n",
      "RAJNANDGAON ­ 491443\n",
      "RAJNANDGAON\n",
      "CHHATTISGARH\n",
      "INDIA\n",
      "22AACCA2881J1ZU(GSTIN Number)\n",
      "Dear Sir / Madam,\n",
      "Sub: Industrial All Risk Insurance Policy No. 0600025876 01 00\n",
      "We thank you for renewing your policy with Tata AIG. It's our pleasure to have been entusted to meet your insurance requirement again. We take immense pride in having you\n",
      "with us and are glad to offer the best of our services. Tata AIG General Insurance Company Ltd. (Tata AIG) combines the Tata Group's pre­eminent leadership position in India\n",
      "and AIG's global presence as the world's leading international insurance and financial services organization. We at Tata AIG, strive to anticipate customer priorities and exceed\n",
      "their expectations. You can be assured that you have chosen the right partner to be 'With You Always'\n",
      "This booklet contains information about policy and other important details. We request you to kindly go through the terms and conditions of your insurance and keep this\n",
      "document safe.\n",
      "Following are the basic details of your policy\n",
      "Client ID 6134338810\n",
      "Insured Name M/S ABIS EXPORTS INDIA PVT LTD\n",
      "Communication Address VILL INDAMARA PO PENDRI DIST RAJNANDGAON RAJNANDGAON ,\n",
      "RAJNANDGAON ­ 491443\n",
      "RAJNANDGAON\n",
      "CHHATTISGARH\n",
      "INDIA\n",
      "22AACCA2881J1ZU(GSTIN Number)\n",
      "Product Industrial All Risk Insurance\n",
      "Policy Period From 01/04/2024 to 31/03/2025\n",
      "Section I ­ Material Damage\n",
      "Material damage other than Machinery Breakdown 2,734,100,000.00\n",
      "Machinery Breakdown 1,550,000,000.00\n",
      "Section II ­ Business Interruption\n",
      "Fire Loss of Profit 100,000.00\n",
      "Net Premium (INR) 2,895,421.00\n",
      "UGST/SGST @ 9% (INR) 260,588.00\n",
      "CGST @ 9% (INR) 260,588.00\n",
      "Gross Premium (INR) 3,416,597.00\n",
      "Should you have any concerns or require any assistance, you can always reach us at\n",
      "1) 24X7 toll free helpline ­ 1800 266 7780\n",
      "2) SMS 'TAG' to 5616181\n",
      "3) Write to us customersupport@tataaig.com\n",
      "Thank you again for entrusting us with your business requirement. We sincerely appreciate you for expressing your confidence in TATA AIG.\n",
      "We look forward to your continued patronage always.\n",
      "Yours Sincerely,\n",
      "Authorized Signatory\n",
      "For Tata AIG General Insurance Company Ltd. Ltd.\n",
      "Insurance is the subject matter of the solicitation. For more details on risk factors, terms and conditions, please read sales brochure carefully before concluding a sale.\n",
      "TATA AIG General Insurance Company Ltd. Regd. Office: 15th floor, Tower A, Peninsula Business Park,Ganpatrao Kadam Marg, Off Senapati Bapat Marg, Lower Parel, Mumbai­ 400 013.\n",
      "IRDA Registration No.108, CIN No : U85110MH2000PLC128425, PAN : AABCT3518Q, UIN No : IRDAN108CP0003V01200607\n",
      "Website: www.tataaig.com 24X7 Tollfree Helpline 1800­266­7780 E­mail: customersupport@tataaig.com\n"
     ]
    }
   ],
   "source": [
    "# Opening the PDF file\n",
    "with pdfplumber.open(\"Insurance Policy.pdf\") as pdf:\n",
    "    # Extracting text from the first page\n",
    "    firstPageText = pdf.pages[0].extract_text()\n",
    "\n",
    "# Printing the extracted text\n",
    "print(firstPageText)"
   ]
  },
  {
   "cell_type": "raw",
   "id": "b44193a1-0d8e-46a6-b012-8d2a67b7ed5f",
   "metadata": {},
   "source": [
    "Since, we have the Net Premium in the first page, we will now proceed to access it."
   ]
  },
  {
   "cell_type": "markdown",
   "id": "a8ef9084-b225-4a0b-9f89-291c08f760b9",
   "metadata": {},
   "source": [
    "#### Accessing the Net Premium from the provided document"
   ]
  },
  {
   "cell_type": "code",
   "execution_count": 4,
   "id": "8cb641d6-d864-478c-b291-3589c530af63",
   "metadata": {},
   "outputs": [
    {
     "name": "stdout",
     "output_type": "stream",
     "text": [
      "Net Premium extracted from PDF: 2895421.0\n"
     ]
    }
   ],
   "source": [
    "# Defining a regular expression pattern to find the net premium value\n",
    "netPremiumPattern = r\"Net Premium \\(INR\\) (\\d{1,3}(?:,\\d{3})*(?:\\.\\d{2})?)\"\n",
    "\n",
    "# Search for the net premium value in the extracted text\n",
    "match = re.search(netPremiumPattern, firstPageText)\n",
    "\n",
    "# Extract the net premium value if found\n",
    "if match:\n",
    "    netPremiumPDF = float(match.group(1).replace(\",\", \"\"))\n",
    "    print(\"Net Premium extracted from PDF:\", netPremiumPDF)\n",
    "else:\n",
    "    print(\"Net Premium not found in the extracted text.\")"
   ]
  },
  {
   "cell_type": "markdown",
   "id": "d7b066cb-eccb-4612-9c59-1604ffb5a28b",
   "metadata": {},
   "source": [
    "#### Applying the required condition"
   ]
  },
  {
   "cell_type": "code",
   "execution_count": 5,
   "id": "85b43ab6-11c6-4f3f-9a0d-ace4aaed4529",
   "metadata": {},
   "outputs": [
    {
     "name": "stdout",
     "output_type": "stream",
     "text": [
      "The net premium mentioned in the insurance policy document is lesser than the value from the Google Sheet.\n"
     ]
    }
   ],
   "source": [
    "if netPremiumPDF > numberFromSheet:\n",
    "    print(\"The net premium mentioned in the insurance policy document is greater than the value from the Google Sheet.\")\n",
    "elif netPremiumPDF < numberFromSheet:\n",
    "    print(\"The net premium mentioned in the insurance policy document is lesser than the value from the Google Sheet.\")\n",
    "else:\n",
    "    print(\"The net premium mentioned in the insurance policy document is equal to the value from the Google Sheet.\")"
   ]
  }
 ],
 "metadata": {
  "kernelspec": {
   "display_name": "Python 3 (ipykernel)",
   "language": "python",
   "name": "python3"
  },
  "language_info": {
   "codemirror_mode": {
    "name": "ipython",
    "version": 3
   },
   "file_extension": ".py",
   "mimetype": "text/x-python",
   "name": "python",
   "nbconvert_exporter": "python",
   "pygments_lexer": "ipython3",
   "version": "3.11.5"
  }
 },
 "nbformat": 4,
 "nbformat_minor": 5
}
